{
 "cells": [
  {
   "cell_type": "markdown",
   "metadata": {},
   "source": [
    "# Reflect Tables into SQLAlchemy ORM"
   ]
  },
  {
   "cell_type": "code",
   "execution_count": 13,
   "metadata": {},
   "outputs": [],
   "source": [
    "# Python SQL toolkit and Object Relational Mapper\n",
    "import sqlalchemy\n",
    "from sqlalchemy.ext.automap import automap_base\n",
    "from sqlalchemy.orm import Session\n",
    "from sqlalchemy import create_engine, func"
   ]
  },
  {
   "cell_type": "code",
   "execution_count": 14,
   "metadata": {},
   "outputs": [],
   "source": [
    "# create engine to ev_db.sqlite\n",
    "engine = create_engine(\"sqlite:///ev_db.sqlite\")"
   ]
  },
  {
   "cell_type": "code",
   "execution_count": 15,
   "metadata": {},
   "outputs": [
    {
     "data": {
      "text/plain": [
       "['sales_vol_his',\n",
       " 'ev_sales_his',\n",
       " 'sales_vol_pro',\n",
       " 'ev_sales_pro',\n",
       " 'ev_chargingpoint_pro',\n",
       " 'ev_chargingpoint_his']"
      ]
     },
     "execution_count": 15,
     "metadata": {},
     "output_type": "execute_result"
    }
   ],
   "source": [
    "# reflect an existing database into a new model\n",
    "Base = automap_base()\n",
    "# reflect the tables\n",
    "Base.prepare(autoload_with=engine)\n",
    "# View all of the classes that automap found\n",
    "Base.classes.keys()"
   ]
  },
  {
   "cell_type": "code",
   "execution_count": 16,
   "metadata": {},
   "outputs": [],
   "source": [
    "# Save references to each table\n",
    "sales_vol_his=Base.classes.sales_vol_his\n",
    "ev_sales_his=Base.classes.ev_sales_his\n",
    "ev_charging_his=Base.classes.ev_chargingpoint_his\n",
    "sales_vol_pro=Base.classes.sales_vol_pro\n",
    "ev_sales_pro=Base.classes.ev_sales_pro\n",
    "ev_charging_pro=Base.classes.ev_chargingpoint_pro"
   ]
  },
  {
   "cell_type": "code",
   "execution_count": 18,
   "metadata": {},
   "outputs": [],
   "source": [
    "# Create our session (link) from Python to the DB\n",
    "session = Session(engine)"
   ]
  },
  {
   "cell_type": "markdown",
   "metadata": {},
   "source": [
    "# Explore EV sales data and analysis"
   ]
  },
  {
   "cell_type": "code",
   "execution_count": null,
   "metadata": {},
   "outputs": [],
   "source": [
    "# Import the dependencies.\n",
    "import numpy as np\n",
    "import pandas as pd\n",
    "import datetime as dt\n",
    "\n",
    "import matplotlib as mpl\n",
    "import matplotlib.pyplot as plt\n",
    "import seaborn as sns\n",
    "import seaborn.objects as so"
   ]
  },
  {
   "cell_type": "markdown",
   "metadata": {},
   "source": [
    "**Data exploration**"
   ]
  },
  {
   "cell_type": "code",
   "execution_count": null,
   "metadata": {},
   "outputs": [
    {
     "name": "stdout",
     "output_type": "stream",
     "text": [
      "ev_sales_his time range from year 2010 to 2023\n",
      "ev_charging_point_his time range from year 2010 to 2023\n",
      "total countries: 52\n"
     ]
    }
   ],
   "source": [
    "# build query to find the time range of the \"ev_sales_his\" table\n",
    "max_year = session.query(func.max(ev_sales_his.year)).scalar()\n",
    "min_year = session.query(func.min(ev_sales_his.year)).scalar()\n",
    "\n",
    "print(f\"ev_sales_his time range from year {min_year} to {max_year}\")\n",
    "\n",
    "# build query to find the total number of countries in \"ev_sales_his\" table\n",
    "countries=session.query(ev_sales_his.region).distinct().count()\n",
    "print(f\"total countries: {countries}\")\n",
    "\n",
    "# build query to count the rows count \n",
    "\n",
    "\n"
   ]
  },
  {
   "cell_type": "code",
   "execution_count": null,
   "metadata": {},
   "outputs": [],
   "source": [
    "countries=session.query(ev_sales_his.region).distinct().\n"
   ]
  },
  {
   "cell_type": "code",
   "execution_count": 23,
   "metadata": {},
   "outputs": [
    {
     "name": "stdout",
     "output_type": "stream",
     "text": [
      "('BEV',)\n",
      "('PHEV',)\n",
      "('FCEV',)\n"
     ]
    }
   ],
   "source": [
    "# build query to find the powertrain type in \"sales_vol_his\" table\n",
    "powertrain_types = session.query(sales_vol_his.powertrain).distinct().all()\n",
    "\n",
    "# Print the results\n",
    "for powertrain in powertrain_types:\n",
    "    print(powertrain)"
   ]
  },
  {
   "cell_type": "markdown",
   "metadata": {},
   "source": [
    "***ev_sales_pro data explore***"
   ]
  },
  {
   "cell_type": "code",
   "execution_count": null,
   "metadata": {},
   "outputs": [],
   "source": [
    "# find the time range of the \"ev_sales_pro\" table \n",
    "\n",
    "# find the total number of countries in \"ev_sales_pro\" table"
   ]
  },
  {
   "cell_type": "markdown",
   "metadata": {},
   "source": [
    "# EV charging point data explore and analysis"
   ]
  },
  {
   "cell_type": "code",
   "execution_count": null,
   "metadata": {},
   "outputs": [],
   "source": [
    "# build query to find the time range of the \"ev_charging_point_his\" table\n",
    "max_year_2 = session.query(func.max(ev_charging_his.year)).scalar()\n",
    "min_year_2 = session.query(func.min(ev_charging_his.year)).scalar()\n",
    "print(f\"ev_charging_point_his time range from year {min_year_2} to {max_year_2}\")"
   ]
  }
 ],
 "metadata": {
  "kernelspec": {
   "display_name": "base",
   "language": "python",
   "name": "python3"
  },
  "language_info": {
   "codemirror_mode": {
    "name": "ipython",
    "version": 3
   },
   "file_extension": ".py",
   "mimetype": "text/x-python",
   "name": "python",
   "nbconvert_exporter": "python",
   "pygments_lexer": "ipython3",
   "version": "3.12.4"
  }
 },
 "nbformat": 4,
 "nbformat_minor": 2
}
